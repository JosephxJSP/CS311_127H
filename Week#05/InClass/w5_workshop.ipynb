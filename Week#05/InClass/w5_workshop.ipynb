{
 "cells": [
  {
   "attachments": {},
   "cell_type": "markdown",
   "metadata": {},
   "source": [
    "# List\n",
    "\n",
    "Lists are used to store multiple items in a single variable.\n",
    "\n",
    "Lists are one of 4 built-in data types in Python used to store collections of data, the other 3 are Tuple, Set, and Dictionary, all with different qualities and usage.\n",
    "\n",
    "Lists are created using square brackets: `[` ... `]`\n",
    "\n",
    "**Example**\n"
   ]
  },
  {
   "cell_type": "code",
   "execution_count": null,
   "metadata": {},
   "outputs": [],
   "source": [
    "fuits = [\"apple\", \"banana\", \"cherry\"]\n",
    "print(fuits)"
   ]
  },
  {
   "attachments": {},
   "cell_type": "markdown",
   "metadata": {},
   "source": [
    "# Accessing List Items\n",
    "\n",
    "`List` items are indexed and you can access them by referring to the index number\n",
    "\n",
    "**`Note`: The first item has index 0.**\n",
    "\n",
    "**Example**\n"
   ]
  },
  {
   "cell_type": "code",
   "execution_count": 2,
   "metadata": {},
   "outputs": [
    {
     "name": "stdout",
     "output_type": "stream",
     "text": [
      "cherry\n",
      "['apple', 'banana', 'cherry', 'PineApple']\n"
     ]
    }
   ],
   "source": [
    "fruits = [\"apple\", \"banana\", \"cherry\"]\n",
    "print(fruits[2])\n",
    "\n",
    "# add a fruit\n",
    "fruits.append('PineApple')\n",
    "\n",
    "print(fruits)"
   ]
  },
  {
   "attachments": {},
   "cell_type": "markdown",
   "metadata": {},
   "source": [
    "\n",
    "\n",
    "\n",
    "\n",
    "\n",
    "## Accessing list items using `FOR` and `Len`\n",
    "\n"
   ]
  },
  {
   "cell_type": "code",
   "execution_count": 3,
   "metadata": {},
   "outputs": [
    {
     "name": "stdout",
     "output_type": "stream",
     "text": [
      "----- using len() ------\n",
      "0 Python\n",
      "1 Java\n",
      "2 C#\n",
      "3 Swift\n",
      "4 PHP\n"
     ]
    }
   ],
   "source": [
    "\n",
    "langlist = [\"Python\",\"Java\",\"C#\",\"Swift\",\"PHP\"]\n",
    "\n",
    "print(\"----- using len() ------\")\n",
    "for i in range(len(langlist)) :\n",
    "\tprint(i,langlist[i])\n"
   ]
  },
  {
   "attachments": {},
   "cell_type": "markdown",
   "metadata": {},
   "source": [
    "## Accessing list items using `For` and `Enumerate`"
   ]
  },
  {
   "cell_type": "code",
   "execution_count": 4,
   "metadata": {},
   "outputs": [
    {
     "name": "stdout",
     "output_type": "stream",
     "text": [
      "----- using enumerate() -------\n",
      "0 Python\n",
      "1 Java\n",
      "2 C#\n",
      "3 Swift\n",
      "4 PHP\n",
      "5 Kotlin\n"
     ]
    }
   ],
   "source": [
    "langlist = [\"Python\",\"Java\",\"C#\",\"Swift\",\"PHP\", \"Kotlin\"]\n",
    "\n",
    "print(\"----- using enumerate() -------\")\n",
    "for i,data in enumerate(langlist) :\n",
    "\tprint(i,data)\n"
   ]
  },
  {
   "attachments": {},
   "cell_type": "markdown",
   "metadata": {},
   "source": [
    "## Initializing List Items using `For`\n",
    "\n",
    "Sometimes, you need an empty list should know this."
   ]
  },
  {
   "cell_type": "code",
   "execution_count": 7,
   "metadata": {},
   "outputs": [
    {
     "name": "stdout",
     "output_type": "stream",
     "text": [
      "Grade :  ['F', 'F', 'F', 'F', 'F', 'F']\n",
      "Score :  [0.0, 0.0, 0.0, 0.0, 0.0, 0.0]\n"
     ]
    }
   ],
   "source": [
    "alist = []\n",
    "langlist = [\"Python\",\"Java\",\"C#\",\"Swift\",\"PHP\", \"Kotlin\"]\n",
    "\n",
    "grade = [\"F\" for _ in langlist]\n",
    "print(\"Grade : \",grade)\n",
    "\n",
    "\n",
    "score = [0.0 for _ in langlist]\n",
    "print(\"Score : \",score)\n",
    "    "
   ]
  },
  {
   "attachments": {},
   "cell_type": "markdown",
   "metadata": {},
   "source": [
    "# Creating widget using loop"
   ]
  },
  {
   "cell_type": "code",
   "execution_count": 9,
   "metadata": {},
   "outputs": [],
   "source": [
    "from tkinter import *\n",
    "\n",
    "top = Tk()\n",
    "top.geometry('800x800+800+100')\n",
    "img1 = PhotoImage(file='image/icon1.png')\n",
    "img2 = PhotoImage(file='image/icon2.png')\n",
    "img3 = PhotoImage(file=\"image/book1.png\")\n",
    "img4 = PhotoImage(file=\"image/book2.png\")\n",
    "img5 = PhotoImage(file=\"image/book3.png\")\n",
    "\n",
    "imglist = [img3,img4,img5,img3,img4,img5]\n",
    "\n",
    "def widgetleft(left) :\n",
    "\tfor i in range(len(imglist)) :\n",
    "\t  Label(left,image=imglist[i],bg=\"#F3C5C5\").grid(row=i)\n",
    "\n",
    "\n"
   ]
  },
  {
   "attachments": {},
   "cell_type": "markdown",
   "metadata": {},
   "source": [
    "## Control Variable List"
   ]
  },
  {
   "cell_type": "code",
   "execution_count": 15,
   "metadata": {},
   "outputs": [],
   "source": [
    "import tkinter as tk\n",
    "x = tk.IntVar()"
   ]
  },
  {
   "cell_type": "code",
   "execution_count": 16,
   "metadata": {},
   "outputs": [],
   "source": [
    "\n",
    "\n",
    "addlist = [\"book1: 100\",\"book2: 250\",\"book3: 150\", \"book4: 300\",\"book5: 200\",\"book6: 400\"]\n",
    "\n",
    "spy1 = [IntVar() for i in addlist]\n",
    "spy2 = [StringVar() for i in addlist]\n",
    "spy3 = [DoubleVar() for i in addlist]\n",
    "\n",
    "\n"
   ]
  },
  {
   "attachments": {},
   "cell_type": "markdown",
   "metadata": {},
   "source": [
    "## Creating Checkbuttons"
   ]
  },
  {
   "cell_type": "code",
   "execution_count": 17,
   "metadata": {},
   "outputs": [],
   "source": [
    "\n",
    "def fnclick():\n",
    "    pass\n",
    "\n",
    "def widgetright(right) :\n",
    "    addlist = [\"Address book1: 100 bahts\",\"Address book2: 250 bahts\",\"Address book3: 150 bahts\",\n",
    "\"Address book4: 300 bahts\",\"Address book5: 200 bahts\",\"Address book6: 400 bahts\"]\n",
    "\n",
    "    v = [IntVar() for i in addlist]\n",
    "\n",
    "    for i in range(len(addlist)) :\n",
    "        Checkbutton(right,text=addlist[i],variable=v[i],command=fnclick,bg=\"#694E4E\",fg='yellow').grid(row=i,sticky='w',padx=20)\n",
    "    return(v)\n",
    "\n"
   ]
  },
  {
   "attachments": {},
   "cell_type": "markdown",
   "metadata": {},
   "source": [
    "## Configure Frames for Executing"
   ]
  },
  {
   "cell_type": "code",
   "execution_count": 18,
   "metadata": {},
   "outputs": [],
   "source": [
    "top.grid_columnconfigure((0,1), weight=1)\n",
    "top.grid_rowconfigure(0, weight=1)\n",
    "\n",
    "fm_left = Frame(top, bg=\"#F3C5C5\")\n",
    "fm_right = Frame(top, bg=\"#694E4E\")\n",
    "\n",
    "fm_left.columnconfigure(0, weight=1)\n",
    "fm_left.rowconfigure((0,1,2,3,4,5), weight=1)\n",
    "\n",
    "fm_right.columnconfigure(0, weight=1)\n",
    "fm_right.rowconfigure((0,1,2,3,4,5), weight=1)\n",
    "\n",
    "fm_left.grid(row=0, column=0, sticky=NSEW)\n",
    "fm_right.grid(row=0, column=1, sticky=NSEW)\n",
    "\n",
    "widgetleft(fm_left)\n",
    "widgetright(fm_right)\n",
    "\n",
    "\n",
    "top.mainloop()\n",
    "\n"
   ]
  },
  {
   "attachments": {},
   "cell_type": "markdown",
   "metadata": {},
   "source": [
    "# Lambda Function & Evaluation\n",
    "\n",
    "Lambda functions can have any number of arguments but only one expression. The expression is evaluated and returned. Lambda functions can be used wherever function objects are required.\n",
    "\n",
    "Syntax of a Lambda Function for passing data value\n",
    "\n",
    "\n",
    "`command = lambda:callback_fn(value)`\n"
   ]
  },
  {
   "cell_type": "code",
   "execution_count": 19,
   "metadata": {},
   "outputs": [],
   "source": [
    "from tkinter import *\n",
    "\n",
    "root = Tk()\n",
    "\n",
    "root.propagate(0)\n",
    "root.geometry('500x500+400+540')\n",
    "root.rowconfigure(0, weight=2)\n",
    "root.rowconfigure(1, weight=1)\n",
    "root.columnconfigure((0,1), weight=1)\n",
    "\n",
    "text_output = StringVar()\n",
    "text_output.set('')\n",
    "\n",
    "\n",
    "def set_color(bg_color, fg_color, text):\n",
    "    # set background color\n",
    "    lbl_text.configure(bg=bg_color)\n",
    "\n",
    "    # set foreground color\n",
    "    lbl_text.configure(fg=fg_color)\n",
    "\n",
    "    # set text\n",
    "    text_output.set(text + '\\n\\nbg = ' + bg_color + '\\nfg = ' + fg_color + '\\ntext = ' + text)\n",
    "\n",
    "lbl_text = Label(root, textvariable=text_output, font='Tahoma 22 bold')\n",
    "lbl_text.grid(row=0, column=0, columnspan=2, sticky=NSEW)\n",
    "\n",
    "# Button(root, text='Easy', command=lambda:set_color('lightblue', '#efefef', 'Lambda Very Easy!')).grid(row=1, column=0,sticky=NSEW)\n",
    "# Button(root, text='Chill', command=lambda:set_color('orange', 'yellow', 'Lambda Chill Chill ...')).grid(row=1, column=1,sticky=NSEW)\n",
    "texts = ['Easy', 'Chill']\n",
    "bg_colors = ['orange', 'yellow']\n",
    "fg_colors = ['blue', 'green']\n",
    "for i in range(len(texts)):\n",
    "    Button(root, text=texts[i], command=lambda x = i :set_color(bg_colors[x], fg_colors[x], f'{x}')).grid(row=1, column=i, sticky=NSEW)\n",
    "root.mainloop()"
   ]
  },
  {
   "attachments": {},
   "cell_type": "markdown",
   "metadata": {},
   "source": [
    "**More Example**"
   ]
  },
  {
   "cell_type": "code",
   "execution_count": 20,
   "metadata": {},
   "outputs": [],
   "source": [
    "from tkinter import *\n",
    "\n",
    "def mainwindow() :\n",
    "    root = Tk()\n",
    "    root.geometry('800x400+400+40')\n",
    "    root.title(\"Lamda function : \")\n",
    "    root.option_add(\"*font\",\"Courier 16 bold\")\n",
    "    root.rowconfigure((0,2),weight=1)\n",
    "    root.rowconfigure(1,weight=5)\n",
    "    root.columnconfigure(0,weight=1)\n",
    "    return root\n",
    "\n",
    "def layout(root):\n",
    "    frame1 = Frame(root)\n",
    "    frame1.rowconfigure(0,weight=1)\n",
    "    frame1.columnconfigure(0,weight=1)\n",
    "    frame1.grid(row=0,sticky='news')\n",
    "    frame2 = Frame(root,bg='lightblue')\n",
    "    frame2.columnconfigure((0,1,2,3,4),weight=1)\n",
    "    frame2.rowconfigure((0,1),weight=1)\n",
    "    frame2.grid(row=1,sticky='news')\n",
    "    frame3 = Frame(root,bg='lightpink')\n",
    "    frame3.columnconfigure((0,1),weight=1)\n",
    "    frame3.rowconfigure(0,weight=1)\n",
    "    frame3.grid(row=2,sticky='news')\n",
    "    return frame1,frame2,frame3\n",
    "\n",
    "def topframe(frame1) :\n",
    "    Label(frame1,image=cake,text=\"Cake Cafe Satisfaction Score\",compound=LEFT).grid(row=0)\n",
    "\n",
    "def centerframe(frame2) :\n",
    "    bt1 = Button(frame2,text=\"Excellent\",fg='blue',command=lambda:click(5))\n",
    "    bt1.grid(row=0,column=0,sticky='news')\n",
    "    bt2 = Button(frame2,text=\"Good\",fg='blue',command=lambda:click(4))\n",
    "    bt2.grid(row=0,column=1,sticky='news') \n",
    "    bt3 = Button(frame2,text=\"Normal\",fg='blue',command=lambda:click(3))\n",
    "    bt3.grid(row=0,column=2,sticky='news')\n",
    "    bt4 = Button(frame2,text=\"Fair\",fg='blue',command=lambda:click(2))\n",
    "    bt4.grid(row=0,column=3,sticky='news')\n",
    "    bt5 = Button(frame2,text=\"Bad\",fg='blue',command=lambda:click(1))\n",
    "    bt5.grid(row=0,column=4,sticky='news')\n",
    "    showdata = Label(frame2,textvariable=output,bg='violet')\n",
    "    showdata.grid(row=1,column=0,columnspan=5,sticky='news')\n",
    "\n",
    "def bottomframe(frame3) :\n",
    "    btn1 = Button(frame3,text='Reset Data',fg='green',command=resetclick)\n",
    "    btn1.grid(row=0,column=0,sticky='news')\n",
    "    btn2 = Button(frame3,text=\"Close Program\", fg='red',command=root.quit)\n",
    "    btn2.grid(row=0,column=1,sticky='news')\n",
    "\n",
    "def click(score) :\n",
    "\n",
    "    global cnt\n",
    "    global total\n",
    "    if score == 5 :\n",
    "        total += 5 \n",
    "    elif score == 4 :\n",
    "        total += 4\n",
    "    elif score == 3 :\n",
    "        total += 3\n",
    "    elif score == 2 :\n",
    "        total += 2\n",
    "    elif score == 1 :\n",
    "        total += 1\n",
    "    \n",
    "    cnt += 1\n",
    "    output.set(\"Click Amount = %d, Total Score = %d, Average Score = %0.2f\"%(cnt, total,total/cnt))\n",
    "\n",
    "def resetclick() :\n",
    "    global cnt\n",
    "    global total\n",
    "    cnt = 0\n",
    "    total = 0\n",
    "    output.set(\"Click Amount = 0, Total Score = 0, Average Score = 0.00\")\n",
    "\n",
    "\n",
    "root = mainwindow()\n",
    "total = 0\n",
    "cnt = 0\n",
    "output = StringVar()\n",
    "output.set(\"0.0\")\n",
    "cake = PhotoImage(file='image/cake1.png')\n",
    "frame1,frame2,frame3 = layout(root)\n",
    "topframe(frame1)\n",
    "centerframe(frame2)\n",
    "bottomframe(frame3)\n",
    "root.mainloop()\n"
   ]
  },
  {
   "cell_type": "markdown",
   "metadata": {},
   "source": [
    "# Lambda with Parameters\n",
    "\n",
    "In addition to using lambda for binding the command to widgets that support it, we can pass parameters for binding a function using lambda.\n",
    "\n",
    "**Syntax**\n",
    "`lambda param = i : func(param)`"
   ]
  },
  {
   "cell_type": "code",
   "execution_count": null,
   "metadata": {},
   "outputs": [],
   "source": [
    "from tkinter import *\n",
    "\n",
    "top = Tk()\n",
    "top.geometry('500x200')\n",
    "top.title('lambda with fixed params')\n",
    "\n",
    "def calculate(num1, num2):\n",
    "    print(f\"the result {num1} + {num2} = {num1 + num2}\")\n",
    "\n",
    "Button(top, text=f'button 1', command=lambda num1 = 1, num2 = 20: calculate(num1, num2)).pack()\n",
    "\n",
    "top.mainloop()"
   ]
  },
  {
   "cell_type": "markdown",
   "metadata": {},
   "source": [
    "We can use lambda with parameters when looping."
   ]
  },
  {
   "cell_type": "code",
   "execution_count": 1,
   "metadata": {},
   "outputs": [],
   "source": [
    "from tkinter import *\n",
    "\n",
    "top = Tk()\n",
    "top.geometry('500x400')\n",
    "top.title('lambda with fixed params')\n",
    "\n",
    "def click_x(t):\n",
    "    print(f\"button {t} was clicked.\")\n",
    "\n",
    "def generate_buttons(top, num):\n",
    "    for i in range(num):\n",
    "        Button(top, text=f'button {i}', command=lambda num = i: click_x(num)).pack()\n",
    "\n",
    "generate_buttons(top, 10)\n",
    "\n",
    "top.mainloop()"
   ]
  },
  {
   "attachments": {},
   "cell_type": "markdown",
   "metadata": {},
   "source": [
    "# Python `eval()` Function\n",
    "\n",
    "The built-in Python function `eval()` is used to dynamically evaluate expressions from an input. If you pass a string expression to eval(), the function parses, compiles, and evaluates it as a Python expression.\n",
    "\n",
    "**Syntax**\n",
    "\n",
    "`eval(string expression)`\n",
    "\n",
    "\n",
    "**Example 1**"
   ]
  },
  {
   "cell_type": "code",
   "execution_count": null,
   "metadata": {},
   "outputs": [],
   "source": [
    "result = eval('16+9')\n",
    "print(result)"
   ]
  },
  {
   "cell_type": "code",
   "execution_count": null,
   "metadata": {},
   "outputs": [],
   "source": [
    "expression = '5+6-2+4*2'\n",
    "print(eval(expression))"
   ]
  },
  {
   "attachments": {},
   "cell_type": "markdown",
   "metadata": {},
   "source": [
    "**Example 2**"
   ]
  },
  {
   "cell_type": "code",
   "execution_count": null,
   "metadata": {},
   "outputs": [],
   "source": [
    "eval('print(\"I Love CS311\")')"
   ]
  },
  {
   "attachments": {},
   "cell_type": "markdown",
   "metadata": {},
   "source": [
    "**Example 3**"
   ]
  },
  {
   "cell_type": "code",
   "execution_count": null,
   "metadata": {},
   "outputs": [],
   "source": [
    "def cal_add(num1, num2):\n",
    "    return num1+num2\n",
    "\n",
    "eval('print(cal_add(10, 20))')"
   ]
  },
  {
   "cell_type": "code",
   "execution_count": null,
   "metadata": {},
   "outputs": [],
   "source": [
    "eval('prin(\"hell world\")')"
   ]
  }
 ],
 "metadata": {
  "kernelspec": {
   "display_name": "Python 3",
   "language": "python",
   "name": "python3"
  },
  "language_info": {
   "codemirror_mode": {
    "name": "ipython",
    "version": 3
   },
   "file_extension": ".py",
   "mimetype": "text/x-python",
   "name": "python",
   "nbconvert_exporter": "python",
   "pygments_lexer": "ipython3",
   "version": "3.11.4"
  },
  "orig_nbformat": 4,
  "vscode": {
   "interpreter": {
    "hash": "aee8b7b246df8f9039afb4144a1f6fd8d2ca17a180786b69acc140d282b71a49"
   }
  }
 },
 "nbformat": 4,
 "nbformat_minor": 2
}
